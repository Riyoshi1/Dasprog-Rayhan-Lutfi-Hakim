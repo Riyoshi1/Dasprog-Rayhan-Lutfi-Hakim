{
  "nbformat": 4,
  "nbformat_minor": 0,
  "metadata": {
    "colab": {
      "provenance": []
    },
    "kernelspec": {
      "name": "python3",
      "display_name": "Python 3"
    },
    "language_info": {
      "name": "python"
    }
  },
  "cells": [
    {
      "cell_type": "code",
      "execution_count": null,
      "metadata": {
        "id": "AaijN1lkaq1K"
      },
      "outputs": [],
      "source": [
        "# 1\n",
        "n = input()\n",
        "if len(n) == 1:\n",
        "    print(n)\n",
        "elif len(n) == 2:\n",
        "    if (int(n[0])**len(n) + int(n[1])**len(n)) == int(n):\n",
        "        print(\"Armstrong\")\n",
        "    else:\n",
        "        print(\"Bukan armstrong\")\n",
        "else:\n",
        "    if (int(n[0])**len(n) + int(n[1])**len(n) + int(n[2])**len(n)) == int(n):\n",
        "        print(\"Armstrong\")\n",
        "    else:\n",
        "        print(\"Bukan armstrong\")"
      ]
    },
    {
      "cell_type": "code",
      "source": [
        "# 2\n",
        "n = int(input())\n",
        "satuan = ['', 'Satu', 'Dua', 'Tiga', 'Empat', 'Lima', 'Enam', 'Tujuh', 'Delapan', 'Sembilan']\n",
        "belasan = [\"Sepuluh\", \"Sebelas\", \"Dua Belas\", \"Tiga Belas\", \"Empat Belas\", \"Lima Belas\", \"Enam Belas\", \"Tujuh Belas\", \"Delapan Belas\", \"Sembilan Belas\"]\n",
        "ratusan = [\"Seratus\", \"Dua Ratus\", \"Tiga Ratus\", \"Empat Ratus\", \"Lima Ratus\", \"Enam Ratus\", \"Tujuh Ratus\", \"Delapan Ratus\", \"Sembilan Ratus\"]\n",
        "\n",
        "if n == 0:\n",
        "    print(\"Nol\")\n",
        "elif n < 10:\n",
        "    print(satuan[n])\n",
        "elif n < 20:\n",
        "    print((belasan[n%10]))\n",
        "elif n >= 20 and n < 100:\n",
        "    print(satuan[n//10] + ' Puluh ' + satuan[n%10])\n",
        "elif n >= 100 and n < 1000:\n",
        "    if n % 100 == 0:\n",
        "        print(ratusan[(n//100 - 1)])\n",
        "    elif n % 100 < 10:\n",
        "        print(ratusan[(n//100 - 1)] + ' ' + satuan[n%10])\n",
        "    elif n % 100 < 20:\n",
        "        print(ratusan[(n//100 - 1)] + ' ' + belasan[n%10])\n",
        "    else:\n",
        "        print(ratusan[(n//100 - 1)] + ' ' + satuan[(n%100)//10] + ' Puluh ' + satuan[n%10])"
      ],
      "metadata": {
        "id": "muv_0TdwayM4"
      },
      "execution_count": null,
      "outputs": []
    },
    {
      "cell_type": "code",
      "source": [
        "# 3\n",
        "n = int(input())\n",
        "if (n % 400 == 0) or (n % 400 != 0 and n % 100 != 0 and n % 4 == 0):\n",
        "    print(\"Kabisat\")\n",
        "if (n % 400 != 0 and n % 100 == 0) or (n % 400 != 0 and n % 100 != 0 and n % 4 != 0):\n",
        "    print('bukan kabisat')"
      ],
      "metadata": {
        "id": "Y0TEM6W_RtbL"
      },
      "execution_count": null,
      "outputs": []
    }
  ]
}