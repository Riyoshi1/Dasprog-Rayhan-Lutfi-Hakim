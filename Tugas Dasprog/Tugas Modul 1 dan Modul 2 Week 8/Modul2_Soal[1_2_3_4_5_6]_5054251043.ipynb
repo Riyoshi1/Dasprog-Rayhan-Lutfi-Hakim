{
  "nbformat": 4,
  "nbformat_minor": 0,
  "metadata": {
    "colab": {
      "provenance": []
    },
    "kernelspec": {
      "name": "python3",
      "display_name": "Python 3"
    },
    "language_info": {
      "name": "python"
    }
  },
  "cells": [
    {
      "cell_type": "code",
      "execution_count": null,
      "metadata": {
        "id": "hQLqmRS0FdHS"
      },
      "outputs": [],
      "source": [
        "# 1\n",
        "n = int(input())\n",
        "if n % 2 == 0:\n",
        "    print('Genap')\n",
        "else:\n",
        "    print('Ganjil')"
      ]
    },
    {
      "cell_type": "code",
      "source": [
        "# 2\n",
        "n = int(input())\n",
        "for i in range(1, n + 1):\n",
        "    if i % 2 == 0:\n",
        "        print('*', end=' ')\n",
        "    else:\n",
        "        print(i, end=' ')"
      ],
      "metadata": {
        "id": "7BAMulumFirn"
      },
      "execution_count": null,
      "outputs": []
    },
    {
      "cell_type": "code",
      "source": [
        "# 3\n",
        "n = int(input())\n",
        "for i in range(2, n + 1):\n",
        "    prima = True\n",
        "    for j in range(2, i):\n",
        "        if i % j == 0:\n",
        "            prima = False\n",
        "            break\n",
        "    if prima:\n",
        "        print('*', end=' ')\n",
        "    else:\n",
        "        print(i, end=' ')"
      ],
      "metadata": {
        "id": "J7HzFknnFksy"
      },
      "execution_count": null,
      "outputs": []
    },
    {
      "cell_type": "code",
      "source": [
        "# 4\n",
        "n = int(input())\n",
        "list = list(map(int, input().split()))\n",
        "\n",
        "for i in list[::-1]:\n",
        "    print(i)"
      ],
      "metadata": {
        "id": "Odkv2tSiFq7n"
      },
      "execution_count": null,
      "outputs": []
    },
    {
      "cell_type": "code",
      "source": [
        "# 5\n",
        "kalimat = input()\n",
        "\n",
        "A = 0\n",
        "I = 0\n",
        "U = 0\n",
        "E = 0\n",
        "O = 0\n",
        "\n",
        "for huruf in kalimat:\n",
        "    huruf = huruf.upper()\n",
        "\n",
        "    if huruf == 'A':\n",
        "        A += 1\n",
        "    elif huruf == 'I':\n",
        "        I += 1\n",
        "    elif huruf == 'U':\n",
        "        U += 1\n",
        "    elif huruf == 'E':\n",
        "        E += 1\n",
        "    elif huruf == 'O':\n",
        "        O += 1\n",
        "\n",
        "print(f'A/a : {A}')\n",
        "print(f'I/i : {I}')\n",
        "print(f'U/u : {U}')\n",
        "print(f'E/e : {E}')\n",
        "print(f'O/o : {O}')"
      ],
      "metadata": {
        "id": "8qEw1HNnFsFp"
      },
      "execution_count": null,
      "outputs": []
    },
    {
      "cell_type": "code",
      "source": [
        "# 6\n",
        "kalimat = input()\n",
        "karakter1 = []\n",
        "\n",
        "for char in kalimat:\n",
        "    karakter1.append(char)\n",
        "\n",
        "index = karakter1.index('_')\n",
        "\n",
        "for huruf in karakter1:\n",
        "    if huruf == '_':\n",
        "        karakter1.remove('_')\n",
        "\n",
        "kalimat1 = karakter1[:index]\n",
        "kalimat2 = karakter1[index:]\n",
        "\n",
        "print(''.join(kalimat1).lower(), end='')\n",
        "print(kalimat2[0].upper() + ''.join(kalimat2[1:]))"
      ],
      "metadata": {
        "id": "EFXIcWukFtIS"
      },
      "execution_count": null,
      "outputs": []
    }
  ]
}